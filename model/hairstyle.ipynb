{
 "cells": [
  {
   "cell_type": "code",
   "execution_count": 34,
   "metadata": {},
   "outputs": [],
   "source": [
    "import pandas as pd\n",
    "import numpy as np\n"
   ]
  },
  {
   "cell_type": "code",
   "execution_count": 35,
   "metadata": {},
   "outputs": [
    {
     "data": {
      "text/plain": [
       "(1524, 170)"
      ]
     },
     "execution_count": 35,
     "metadata": {},
     "output_type": "execute_result"
    }
   ],
   "source": [
    "df = pd.read_csv('all_features.csv', index_col= None)\n",
    "df = df.drop('Unnamed: 0', axis=1)\n",
    "df.shape"
   ]
  },
  {
   "cell_type": "code",
   "execution_count": 36,
   "metadata": {},
   "outputs": [
    {
     "data": {
      "text/html": [
       "<div>\n",
       "<style scoped>\n",
       "    .dataframe tbody tr th:only-of-type {\n",
       "        vertical-align: middle;\n",
       "    }\n",
       "\n",
       "    .dataframe tbody tr th {\n",
       "        vertical-align: top;\n",
       "    }\n",
       "\n",
       "    .dataframe thead th {\n",
       "        text-align: right;\n",
       "    }\n",
       "</style>\n",
       "<table border=\"1\" class=\"dataframe\">\n",
       "  <thead>\n",
       "    <tr style=\"text-align: right;\">\n",
       "      <th></th>\n",
       "      <th>0</th>\n",
       "      <th>1</th>\n",
       "      <th>2</th>\n",
       "      <th>3</th>\n",
       "      <th>4</th>\n",
       "      <th>5</th>\n",
       "      <th>6</th>\n",
       "      <th>7</th>\n",
       "      <th>8</th>\n",
       "      <th>9</th>\n",
       "      <th>...</th>\n",
       "      <th>Width</th>\n",
       "      <th>Height</th>\n",
       "      <th>H_W_Ratio</th>\n",
       "      <th>Jaw_width</th>\n",
       "      <th>J_F_Ratio</th>\n",
       "      <th>MJ_width</th>\n",
       "      <th>MJ_J_width</th>\n",
       "      <th>filenum</th>\n",
       "      <th>filename</th>\n",
       "      <th>classified_shape</th>\n",
       "    </tr>\n",
       "  </thead>\n",
       "  <tbody>\n",
       "    <tr>\n",
       "      <th>0</th>\n",
       "      <td>75.0</td>\n",
       "      <td>98.0</td>\n",
       "      <td>75.0</td>\n",
       "      <td>118.0</td>\n",
       "      <td>76.0</td>\n",
       "      <td>138.0</td>\n",
       "      <td>79.0</td>\n",
       "      <td>158.0</td>\n",
       "      <td>87.0</td>\n",
       "      <td>175.0</td>\n",
       "      <td>...</td>\n",
       "      <td>150.003333</td>\n",
       "      <td>212.084889</td>\n",
       "      <td>1.413868</td>\n",
       "      <td>69.065187</td>\n",
       "      <td>0.460424</td>\n",
       "      <td>122.036880</td>\n",
       "      <td>1.766981</td>\n",
       "      <td>0</td>\n",
       "      <td>Ciara (9).jpg</td>\n",
       "      <td>0</td>\n",
       "    </tr>\n",
       "    <tr>\n",
       "      <th>1</th>\n",
       "      <td>75.0</td>\n",
       "      <td>98.0</td>\n",
       "      <td>76.0</td>\n",
       "      <td>117.0</td>\n",
       "      <td>79.0</td>\n",
       "      <td>136.0</td>\n",
       "      <td>82.0</td>\n",
       "      <td>154.0</td>\n",
       "      <td>88.0</td>\n",
       "      <td>173.0</td>\n",
       "      <td>...</td>\n",
       "      <td>151.003311</td>\n",
       "      <td>210.038092</td>\n",
       "      <td>1.390950</td>\n",
       "      <td>79.000000</td>\n",
       "      <td>0.523167</td>\n",
       "      <td>125.000000</td>\n",
       "      <td>1.582278</td>\n",
       "      <td>1</td>\n",
       "      <td>Ciara (11).jpg</td>\n",
       "      <td>0</td>\n",
       "    </tr>\n",
       "    <tr>\n",
       "      <th>2</th>\n",
       "      <td>76.0</td>\n",
       "      <td>106.0</td>\n",
       "      <td>78.0</td>\n",
       "      <td>125.0</td>\n",
       "      <td>81.0</td>\n",
       "      <td>143.0</td>\n",
       "      <td>84.0</td>\n",
       "      <td>163.0</td>\n",
       "      <td>90.0</td>\n",
       "      <td>181.0</td>\n",
       "      <td>...</td>\n",
       "      <td>152.029602</td>\n",
       "      <td>218.036694</td>\n",
       "      <td>1.434173</td>\n",
       "      <td>70.007142</td>\n",
       "      <td>0.460484</td>\n",
       "      <td>124.004032</td>\n",
       "      <td>1.771305</td>\n",
       "      <td>2</td>\n",
       "      <td>Brittany Snow (7).jpg</td>\n",
       "      <td>0</td>\n",
       "    </tr>\n",
       "    <tr>\n",
       "      <th>3</th>\n",
       "      <td>71.0</td>\n",
       "      <td>99.0</td>\n",
       "      <td>74.0</td>\n",
       "      <td>119.0</td>\n",
       "      <td>77.0</td>\n",
       "      <td>139.0</td>\n",
       "      <td>80.0</td>\n",
       "      <td>159.0</td>\n",
       "      <td>88.0</td>\n",
       "      <td>177.0</td>\n",
       "      <td>...</td>\n",
       "      <td>157.012738</td>\n",
       "      <td>220.009091</td>\n",
       "      <td>1.401218</td>\n",
       "      <td>68.007353</td>\n",
       "      <td>0.433133</td>\n",
       "      <td>124.004032</td>\n",
       "      <td>1.823392</td>\n",
       "      <td>3</td>\n",
       "      <td>Julianne Hough (19).jpg</td>\n",
       "      <td>0</td>\n",
       "    </tr>\n",
       "    <tr>\n",
       "      <th>4</th>\n",
       "      <td>80.0</td>\n",
       "      <td>99.0</td>\n",
       "      <td>83.0</td>\n",
       "      <td>118.0</td>\n",
       "      <td>86.0</td>\n",
       "      <td>137.0</td>\n",
       "      <td>89.0</td>\n",
       "      <td>156.0</td>\n",
       "      <td>95.0</td>\n",
       "      <td>174.0</td>\n",
       "      <td>...</td>\n",
       "      <td>148.030402</td>\n",
       "      <td>214.233517</td>\n",
       "      <td>1.447226</td>\n",
       "      <td>70.007142</td>\n",
       "      <td>0.472924</td>\n",
       "      <td>121.000000</td>\n",
       "      <td>1.728395</td>\n",
       "      <td>4</td>\n",
       "      <td>Ashley Greene (24).jpg</td>\n",
       "      <td>0</td>\n",
       "    </tr>\n",
       "  </tbody>\n",
       "</table>\n",
       "<p>5 rows × 170 columns</p>\n",
       "</div>"
      ],
      "text/plain": [
       "      0      1     2      3     4      5     6      7     8      9  ...  \\\n",
       "0  75.0   98.0  75.0  118.0  76.0  138.0  79.0  158.0  87.0  175.0  ...   \n",
       "1  75.0   98.0  76.0  117.0  79.0  136.0  82.0  154.0  88.0  173.0  ...   \n",
       "2  76.0  106.0  78.0  125.0  81.0  143.0  84.0  163.0  90.0  181.0  ...   \n",
       "3  71.0   99.0  74.0  119.0  77.0  139.0  80.0  159.0  88.0  177.0  ...   \n",
       "4  80.0   99.0  83.0  118.0  86.0  137.0  89.0  156.0  95.0  174.0  ...   \n",
       "\n",
       "        Width      Height  H_W_Ratio  Jaw_width  J_F_Ratio    MJ_width  \\\n",
       "0  150.003333  212.084889   1.413868  69.065187   0.460424  122.036880   \n",
       "1  151.003311  210.038092   1.390950  79.000000   0.523167  125.000000   \n",
       "2  152.029602  218.036694   1.434173  70.007142   0.460484  124.004032   \n",
       "3  157.012738  220.009091   1.401218  68.007353   0.433133  124.004032   \n",
       "4  148.030402  214.233517   1.447226  70.007142   0.472924  121.000000   \n",
       "\n",
       "   MJ_J_width  filenum                 filename  classified_shape  \n",
       "0    1.766981        0            Ciara (9).jpg                 0  \n",
       "1    1.582278        1           Ciara (11).jpg                 0  \n",
       "2    1.771305        2    Brittany Snow (7).jpg                 0  \n",
       "3    1.823392        3  Julianne Hough (19).jpg                 0  \n",
       "4    1.728395        4   Ashley Greene (24).jpg                 0  \n",
       "\n",
       "[5 rows x 170 columns]"
      ]
     },
     "execution_count": 36,
     "metadata": {},
     "output_type": "execute_result"
    }
   ],
   "source": [
    "# apply label encoder to the 'classified shape' column\n",
    "from sklearn.preprocessing import LabelEncoder\n",
    "le = LabelEncoder()\n",
    "df['classified_shape'] = le.fit_transform(df['classified_shape'])\n",
    "df.head()\n"
   ]
  },
  {
   "cell_type": "code",
   "execution_count": 37,
   "metadata": {},
   "outputs": [],
   "source": [
    "from sklearn import metrics\n",
    "from sklearn.metrics import pairwise_distances\n",
    "from sklearn.preprocessing import normalize\n",
    "from sklearn.model_selection import train_test_split\n",
    "from sklearn.cluster import KMeans\n",
    "from sklearn import ensemble\n",
    "from sklearn import linear_model\n",
    "from sklearn.neural_network import MLPClassifier\n",
    "from sklearn.preprocessing import StandardScaler  \n",
    "from sklearn.discriminant_analysis import LinearDiscriminantAnalysis\n",
    "from sklearn.ensemble import RandomForestClassifier\n",
    "from sklearn.neighbors import KNeighborsClassifier\n",
    "from sklearn.metrics import classification_report,confusion_matrix\n",
    "from sklearn.decomposition import PCA "
   ]
  },
  {
   "cell_type": "code",
   "execution_count": 38,
   "metadata": {},
   "outputs": [],
   "source": [
    "data = df.dropna(axis=0, how='any')\n",
    "X = data\n",
    "X = X.drop(['filenum','filename','classified_shape'] , axis = 1)\n",
    "X_norm = normalize(X)\n",
    "Y = data['classified_shape']"
   ]
  },
  {
   "cell_type": "code",
   "execution_count": 39,
   "metadata": {},
   "outputs": [],
   "source": [
    "scaler = StandardScaler()  \n",
    "scaler.fit(X)  \n",
    "\n",
    "X = scaler.transform(X)"
   ]
  },
  {
   "cell_type": "code",
   "execution_count": 40,
   "metadata": {},
   "outputs": [],
   "source": [
    "X_train, X_test, Y_train, Y_test = train_test_split(\n",
    "    X,Y,\n",
    "    test_size=0.25,\n",
    "    random_state=1200)"
   ]
  },
  {
   "cell_type": "code",
   "execution_count": 41,
   "metadata": {},
   "outputs": [],
   "source": [
    "n_components = 18\n",
    "pca = PCA(n_components=n_components, svd_solver='randomized',\n",
    "          whiten=True).fit(X)\n",
    "\n",
    "X_train_pca = pca.transform(X_train)\n",
    "X_test_pca = pca.transform(X_test)"
   ]
  },
  {
   "cell_type": "code",
   "execution_count": 42,
   "metadata": {},
   "outputs": [],
   "source": [
    "# #Remove PCA \n",
    "X_train_pca = X_train\n",
    "X_test_pca = X_test"
   ]
  },
  {
   "cell_type": "code",
   "execution_count": 45,
   "metadata": {},
   "outputs": [
    {
     "name": "stdout",
     "output_type": "stream",
     "text": [
      "Accuracy: 0.6117021276595744\n",
      "[[48  3 17  2  5]\n",
      " [ 7 31 19  0 11]\n",
      " [14  7 67  3  8]\n",
      " [ 4  3  7 41  7]\n",
      " [ 7  8  8  6 43]]\n",
      "              precision    recall  f1-score   support\n",
      "\n",
      "           0       0.60      0.64      0.62        75\n",
      "           1       0.60      0.46      0.52        68\n",
      "           2       0.57      0.68      0.62        99\n",
      "           3       0.79      0.66      0.72        62\n",
      "           4       0.58      0.60      0.59        72\n",
      "\n",
      "    accuracy                           0.61       376\n",
      "   macro avg       0.63      0.61      0.61       376\n",
      "weighted avg       0.62      0.61      0.61       376\n",
      "\n"
     ]
    }
   ],
   "source": [
    "# train a LDA classifier and print the accuracy and confusion matrix\n",
    "lda = LinearDiscriminantAnalysis()\n",
    "lda.fit(X_train_pca, Y_train)\n",
    "Y_pred = lda.predict(X_test_pca)\n",
    "print(\"Accuracy:\",metrics.accuracy_score(Y_test, Y_pred))\n",
    "print(confusion_matrix(Y_test,Y_pred))\n",
    "print(classification_report(Y_test,Y_pred))\n"
   ]
  },
  {
   "cell_type": "code",
   "execution_count": 46,
   "metadata": {},
   "outputs": [
    {
     "name": "stdout",
     "output_type": "stream",
     "text": [
      "Accuracy: 0.6276595744680851\n",
      "[[38  7 17  8  5]\n",
      " [ 9 39 11  0  9]\n",
      " [11  7 68  6  7]\n",
      " [ 4  2  9 42  5]\n",
      " [ 5  5  7  6 49]]\n",
      "              precision    recall  f1-score   support\n",
      "\n",
      "           0       0.57      0.51      0.54        75\n",
      "           1       0.65      0.57      0.61        68\n",
      "           2       0.61      0.69      0.64        99\n",
      "           3       0.68      0.68      0.68        62\n",
      "           4       0.65      0.68      0.67        72\n",
      "\n",
      "    accuracy                           0.63       376\n",
      "   macro avg       0.63      0.63      0.63       376\n",
      "weighted avg       0.63      0.63      0.63       376\n",
      "\n"
     ]
    },
    {
     "name": "stderr",
     "output_type": "stream",
     "text": [
      "c:\\Users\\aksde\\anaconda3\\lib\\site-packages\\sklearn\\neural_network\\_multilayer_perceptron.py:692: ConvergenceWarning: Stochastic Optimizer: Maximum iterations (500) reached and the optimization hasn't converged yet.\n",
      "  warnings.warn(\n"
     ]
    }
   ],
   "source": [
    "# train a MLP classifier and print the accuracy and confusion matrix\n",
    "mlp = MLPClassifier(hidden_layer_sizes=(13,13,13),max_iter=500)\n",
    "mlp.fit(X_train_pca, Y_train)\n",
    "Y_pred = mlp.predict(X_test_pca)\n",
    "print(\"Accuracy:\",metrics.accuracy_score(Y_test, Y_pred))\n",
    "print(confusion_matrix(Y_test,Y_pred))\n",
    "print(classification_report(Y_test,Y_pred))"
   ]
  },
  {
   "cell_type": "code",
   "execution_count": 50,
   "metadata": {},
   "outputs": [],
   "source": [
    "# save the lda model to disk \n",
    "import pickle\n",
    "filename = 'lda_model.sav'\n",
    "pickle.dump(lda, open(filename, 'wb'))"
   ]
  },
  {
   "cell_type": "code",
   "execution_count": 51,
   "metadata": {},
   "outputs": [],
   "source": [
    "test_photo = 'data/pics/heart/amanda seyfried 10.jpg'\n",
    "file_num = 2035\n",
    "\n"
   ]
  }
 ],
 "metadata": {
  "kernelspec": {
   "display_name": "base",
   "language": "python",
   "name": "python3"
  },
  "language_info": {
   "codemirror_mode": {
    "name": "ipython",
    "version": 3
   },
   "file_extension": ".py",
   "mimetype": "text/x-python",
   "name": "python",
   "nbconvert_exporter": "python",
   "pygments_lexer": "ipython3",
   "version": "3.9.13"
  },
  "orig_nbformat": 4,
  "vscode": {
   "interpreter": {
    "hash": "1aeafe4d3499595182ecd81ceb0ed73d0016b130c00a80734111d47737daad88"
   }
  }
 },
 "nbformat": 4,
 "nbformat_minor": 2
}
